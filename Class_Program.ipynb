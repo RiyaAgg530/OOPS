{
 "cells": [
  {
   "cell_type": "code",
   "execution_count": 4,
   "id": "e92ccd3e",
   "metadata": {},
   "outputs": [],
   "source": [
    "class language():\n",
    "    def __init__(self,name,experience,coding):\n",
    "        self.name = name\n",
    "        self.experience = experience\n",
    "        self.coding = coding\n",
    "        \n"
   ]
  },
  {
   "cell_type": "code",
   "execution_count": 13,
   "id": "8155790e",
   "metadata": {},
   "outputs": [
    {
     "data": {
      "text/plain": [
       "'Python'"
      ]
     },
     "execution_count": 13,
     "metadata": {},
     "output_type": "execute_result"
    }
   ],
   "source": [
    "obj1 = language(\"Python\",\"3 months\",True)\n",
    "obj2 = language(\"MySQL\",\"2 months\",True)\n",
    "obj1.name"
   ]
  },
  {
   "cell_type": "code",
   "execution_count": 11,
   "id": "0bc3b3df",
   "metadata": {},
   "outputs": [
    {
     "data": {
      "text/plain": [
       "True"
      ]
     },
     "execution_count": 11,
     "metadata": {},
     "output_type": "execute_result"
    }
   ],
   "source": [
    "obj1 = language(\"Python\",\"3 months\",True)\n",
    "obj1.coding"
   ]
  },
  {
   "cell_type": "code",
   "execution_count": 14,
   "id": "1e5dd42c",
   "metadata": {},
   "outputs": [
    {
     "data": {
      "text/plain": [
       "'3 months'"
      ]
     },
     "execution_count": 14,
     "metadata": {},
     "output_type": "execute_result"
    }
   ],
   "source": [
    "obj1 = language(\"Python\",\"3 months\",True)\n",
    "obj1.experience"
   ]
  },
  {
   "cell_type": "code",
   "execution_count": 16,
   "id": "d2ddb90e",
   "metadata": {},
   "outputs": [
    {
     "data": {
      "text/plain": [
       "'MySQL'"
      ]
     },
     "execution_count": 16,
     "metadata": {},
     "output_type": "execute_result"
    }
   ],
   "source": [
    "obj2 = language(\"MySQL\",\"2 months\",True)\n",
    "obj2.name"
   ]
  },
  {
   "cell_type": "code",
   "execution_count": 18,
   "id": "89e63667",
   "metadata": {},
   "outputs": [
    {
     "data": {
      "text/plain": [
       "True"
      ]
     },
     "execution_count": 18,
     "metadata": {},
     "output_type": "execute_result"
    }
   ],
   "source": [
    "obj2 = language(\"MySQL\",\"2 months\",True)\n",
    "obj2.coding"
   ]
  },
  {
   "cell_type": "code",
   "execution_count": 20,
   "id": "f51ba5c9",
   "metadata": {},
   "outputs": [
    {
     "data": {
      "text/plain": [
       "{'name': 'Python', 'experience': '3 months', 'coding': True}"
      ]
     },
     "execution_count": 20,
     "metadata": {},
     "output_type": "execute_result"
    }
   ],
   "source": [
    "obj1.__dict__"
   ]
  },
  {
   "cell_type": "code",
   "execution_count": 22,
   "id": "0689f0d2",
   "metadata": {},
   "outputs": [
    {
     "data": {
      "text/plain": [
       "{'name': 'MySQL', 'experience': '2 months', 'coding': True}"
      ]
     },
     "execution_count": 22,
     "metadata": {},
     "output_type": "execute_result"
    }
   ],
   "source": [
    "obj2.__dict__"
   ]
  },
  {
   "cell_type": "code",
   "execution_count": 27,
   "id": "5f732e5c",
   "metadata": {},
   "outputs": [
    {
     "data": {
      "text/plain": [
       "True"
      ]
     },
     "execution_count": 27,
     "metadata": {},
     "output_type": "execute_result"
    }
   ],
   "source": [
    "hasattr(obj1,\"coding\")"
   ]
  },
  {
   "cell_type": "code",
   "execution_count": 30,
   "id": "54d5c504",
   "metadata": {},
   "outputs": [
    {
     "data": {
      "text/plain": [
       "True"
      ]
     },
     "execution_count": 30,
     "metadata": {},
     "output_type": "execute_result"
    }
   ],
   "source": [
    "hasattr(obj2,\"name\")"
   ]
  },
  {
   "cell_type": "code",
   "execution_count": 32,
   "id": "5bf0629d",
   "metadata": {},
   "outputs": [
    {
     "data": {
      "text/plain": [
       "'Python'"
      ]
     },
     "execution_count": 32,
     "metadata": {},
     "output_type": "execute_result"
    }
   ],
   "source": [
    "getattr(obj1,\"name\")"
   ]
  },
  {
   "cell_type": "code",
   "execution_count": 33,
   "id": "89f2e9fa",
   "metadata": {},
   "outputs": [
    {
     "data": {
      "text/plain": [
       "'2 months'"
      ]
     },
     "execution_count": 33,
     "metadata": {},
     "output_type": "execute_result"
    }
   ],
   "source": [
    "getattr(obj2,'experience')"
   ]
  }
 ],
 "metadata": {
  "kernelspec": {
   "display_name": "Python 3 (ipykernel)",
   "language": "python",
   "name": "python3"
  },
  "language_info": {
   "codemirror_mode": {
    "name": "ipython",
    "version": 3
   },
   "file_extension": ".py",
   "mimetype": "text/x-python",
   "name": "python",
   "nbconvert_exporter": "python",
   "pygments_lexer": "ipython3",
   "version": "3.11.1"
  }
 },
 "nbformat": 4,
 "nbformat_minor": 5
}
