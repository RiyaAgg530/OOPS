{
 "cells": [
  {
   "cell_type": "code",
   "execution_count": 31,
   "id": "97f60ad1",
   "metadata": {},
   "outputs": [],
   "source": [
    "class language():\n",
    "    def __init__(self,name,experience,coding):\n",
    "        #public\n",
    "        self.name = name\n",
    "        #private\n",
    "        self.__experience = experience\n",
    "        self.__coding = coding\n",
    "    \n",
    "        \n",
    "    def show_private(self):\n",
    "        return self.__experience,self.__coding\n",
    "    "
   ]
  },
  {
   "cell_type": "code",
   "execution_count": 28,
   "id": "1662c787",
   "metadata": {},
   "outputs": [
    {
     "data": {
      "text/plain": [
       "'Python'"
      ]
     },
     "execution_count": 28,
     "metadata": {},
     "output_type": "execute_result"
    }
   ],
   "source": [
    "obj1 = language(\"Python\",\"1 year\",True)\n",
    "obj1.name"
   ]
  },
  {
   "cell_type": "code",
   "execution_count": 34,
   "id": "ee6e9249",
   "metadata": {},
   "outputs": [
    {
     "data": {
      "text/plain": [
       "True"
      ]
     },
     "execution_count": 34,
     "metadata": {},
     "output_type": "execute_result"
    }
   ],
   "source": [
    "obj1._language__coding"
   ]
  },
  {
   "cell_type": "code",
   "execution_count": 33,
   "id": "c546aa6d",
   "metadata": {},
   "outputs": [
    {
     "data": {
      "text/plain": [
       "'1 year'"
      ]
     },
     "execution_count": 33,
     "metadata": {},
     "output_type": "execute_result"
    }
   ],
   "source": [
    "obj1._language__experience"
   ]
  }
 ],
 "metadata": {
  "kernelspec": {
   "display_name": "Python 3 (ipykernel)",
   "language": "python",
   "name": "python3"
  },
  "language_info": {
   "codemirror_mode": {
    "name": "ipython",
    "version": 3
   },
   "file_extension": ".py",
   "mimetype": "text/x-python",
   "name": "python",
   "nbconvert_exporter": "python",
   "pygments_lexer": "ipython3",
   "version": "3.11.1"
  }
 },
 "nbformat": 4,
 "nbformat_minor": 5
}
