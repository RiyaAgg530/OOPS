{
 "cells": [
  {
   "cell_type": "code",
   "execution_count": 5,
   "id": "61a8610f",
   "metadata": {},
   "outputs": [],
   "source": [
    "class language():\n",
    "    def __init__(self,name,experience,coding):\n",
    "        self.name = name\n",
    "        self.experience = experience\n",
    "        self.coding = coding\n",
    "    \n",
    "class programming(language):\n",
    "    def __init__(self,name,experience,coding,projects,certificates):\n",
    "        language.name = name\n",
    "        language.experience = experience\n",
    "        language.coding = coding\n",
    "        self.projects = projects\n",
    "        self.certificates = certificates\n",
    "        "
   ]
  },
  {
   "cell_type": "code",
   "execution_count": 7,
   "id": "6bb5472a",
   "metadata": {},
   "outputs": [],
   "source": [
    "obj1 = programming(\"Python\",\"1 year\",True,\"Yes\",\"Yes\")"
   ]
  },
  {
   "cell_type": "code",
   "execution_count": 9,
   "id": "a60fe800",
   "metadata": {},
   "outputs": [
    {
     "data": {
      "text/plain": [
       "'Python'"
      ]
     },
     "execution_count": 9,
     "metadata": {},
     "output_type": "execute_result"
    }
   ],
   "source": [
    "obj1.name"
   ]
  },
  {
   "cell_type": "code",
   "execution_count": 10,
   "id": "600be19a",
   "metadata": {},
   "outputs": [
    {
     "data": {
      "text/plain": [
       "'Yes'"
      ]
     },
     "execution_count": 10,
     "metadata": {},
     "output_type": "execute_result"
    }
   ],
   "source": [
    "obj1.projects"
   ]
  }
 ],
 "metadata": {
  "kernelspec": {
   "display_name": "Python 3 (ipykernel)",
   "language": "python",
   "name": "python3"
  },
  "language_info": {
   "codemirror_mode": {
    "name": "ipython",
    "version": 3
   },
   "file_extension": ".py",
   "mimetype": "text/x-python",
   "name": "python",
   "nbconvert_exporter": "python",
   "pygments_lexer": "ipython3",
   "version": "3.11.1"
  }
 },
 "nbformat": 4,
 "nbformat_minor": 5
}
