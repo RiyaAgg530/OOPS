{
 "cells": [
  {
   "cell_type": "code",
   "execution_count": 26,
   "id": "324fcbf6",
   "metadata": {},
   "outputs": [],
   "source": [
    "class language():\n",
    "    def __init__(self,name,experience,coding):\n",
    "        self.name = name\n",
    "        self.experience = experience\n",
    "        self.__coding = coding\n",
    "        \n",
    "class programming(language):\n",
    "    def __init__(self,name,experience,coding,projects,certificates):\n",
    "        super(programming,self).__init__(name,experience,coding)\n",
    "        self.projects = projects\n",
    "        self.certificates = certificates\n",
    "    "
   ]
  },
  {
   "cell_type": "code",
   "execution_count": 7,
   "id": "4c0877a6",
   "metadata": {},
   "outputs": [],
   "source": [
    "obj1 = programming(\"Python\",\"1 year\",True,\"Yes\",True)"
   ]
  },
  {
   "cell_type": "code",
   "execution_count": 9,
   "id": "607c7cd3",
   "metadata": {},
   "outputs": [
    {
     "data": {
      "text/plain": [
       "'Python'"
      ]
     },
     "execution_count": 9,
     "metadata": {},
     "output_type": "execute_result"
    }
   ],
   "source": [
    "obj1.name"
   ]
  },
  {
   "cell_type": "code",
   "execution_count": 11,
   "id": "5f7f2165",
   "metadata": {},
   "outputs": [
    {
     "data": {
      "text/plain": [
       "'1 year'"
      ]
     },
     "execution_count": 11,
     "metadata": {},
     "output_type": "execute_result"
    }
   ],
   "source": [
    "obj1.experience"
   ]
  },
  {
   "cell_type": "code",
   "execution_count": 24,
   "id": "a3aa6123",
   "metadata": {},
   "outputs": [
    {
     "data": {
      "text/plain": [
       "True"
      ]
     },
     "execution_count": 24,
     "metadata": {},
     "output_type": "execute_result"
    }
   ],
   "source": [
    "obj1._language__coding"
   ]
  },
  {
   "cell_type": "code",
   "execution_count": 27,
   "id": "7b5eeb1b",
   "metadata": {},
   "outputs": [
    {
     "data": {
      "text/plain": [
       "{'name': 'Python',\n",
       " 'experience': '1 year',\n",
       " '_language__coding': True,\n",
       " 'projects': 'Yes',\n",
       " 'certificates': True}"
      ]
     },
     "execution_count": 27,
     "metadata": {},
     "output_type": "execute_result"
    }
   ],
   "source": [
    "obj1.__dict__"
   ]
  },
  {
   "cell_type": "code",
   "execution_count": 28,
   "id": "0442a0e4",
   "metadata": {},
   "outputs": [
    {
     "data": {
      "text/plain": [
       "'Yes'"
      ]
     },
     "execution_count": 28,
     "metadata": {},
     "output_type": "execute_result"
    }
   ],
   "source": [
    "obj1.projects"
   ]
  }
 ],
 "metadata": {
  "kernelspec": {
   "display_name": "Python 3 (ipykernel)",
   "language": "python",
   "name": "python3"
  },
  "language_info": {
   "codemirror_mode": {
    "name": "ipython",
    "version": 3
   },
   "file_extension": ".py",
   "mimetype": "text/x-python",
   "name": "python",
   "nbconvert_exporter": "python",
   "pygments_lexer": "ipython3",
   "version": "3.11.1"
  }
 },
 "nbformat": 4,
 "nbformat_minor": 5
}
